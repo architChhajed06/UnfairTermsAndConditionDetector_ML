{
 "cells": [
  {
   "cell_type": "code",
   "execution_count": 27,
   "id": "17081a4f-e60b-4ac1-a16b-fe7487554363",
   "metadata": {},
   "outputs": [],
   "source": [
    "from sklearn.model_selection import train_test_split\n",
    "from sklearn.feature_extraction.text import TfidfVectorizer\n",
    "from sklearn.linear_model import LogisticRegression\n",
    "from sklearn.metrics import classification_report\n",
    "import pandas as pd"
   ]
  },
  {
   "cell_type": "code",
   "execution_count": 28,
   "id": "8c275a1d-e639-4f07-afaa-637313b000fc",
   "metadata": {},
   "outputs": [],
   "source": [
    "data = pd.read_csv('Untitled.ipynb.csv');"
   ]
  },
  {
   "cell_type": "code",
   "execution_count": 29,
   "id": "56d4309f-ff8b-41a3-8703-eb94540a9507",
   "metadata": {},
   "outputs": [],
   "source": [
    "sentences = data['text']"
   ]
  },
  {
   "cell_type": "code",
   "execution_count": 30,
   "id": "38806f93-1bd5-438f-996e-367797453bd3",
   "metadata": {},
   "outputs": [
    {
     "data": {
      "text/plain": [
       "text     9414\n",
       "label    9414\n",
       "dtype: int64"
      ]
     },
     "execution_count": 30,
     "metadata": {},
     "output_type": "execute_result"
    }
   ],
   "source": [
    "data.count()"
   ]
  },
  {
   "cell_type": "code",
   "execution_count": 31,
   "id": "157faf59-e572-4b2b-ab40-3a4b17855423",
   "metadata": {},
   "outputs": [],
   "source": [
    "labels = data['label']"
   ]
  },
  {
   "cell_type": "code",
   "execution_count": 32,
   "id": "20210cea-6c3f-417d-922f-12f465eba942",
   "metadata": {},
   "outputs": [
    {
     "data": {
      "text/plain": [
       "np.int64(0)"
      ]
     },
     "execution_count": 32,
     "metadata": {},
     "output_type": "execute_result"
    }
   ],
   "source": [
    "label[0]"
   ]
  },
  {
   "cell_type": "code",
   "execution_count": 33,
   "id": "f96a53af-d82d-4d5d-b47f-3be9d3471284",
   "metadata": {},
   "outputs": [],
   "source": [
    "# Split\n",
    "X_train, X_test, y_train, y_test = train_test_split(sentences, labels, test_size=0.2)\n",
    "\n",
    "# Vectorize\n",
    "vectorizer = TfidfVectorizer()\n",
    "X_train_tfidf = vectorizer.fit_transform(X_train)\n",
    "X_test_tfidf = vectorizer.transform(X_test)"
   ]
  },
  {
   "cell_type": "code",
   "execution_count": 34,
   "id": "c5dc6dbd-10cf-48d3-a240-ba7169ebb939",
   "metadata": {},
   "outputs": [
    {
     "name": "stdout",
     "output_type": "stream",
     "text": [
      "              precision    recall  f1-score   support\n",
      "\n",
      "           0       0.93      1.00      0.96      1667\n",
      "           1       0.96      0.39      0.56       216\n",
      "\n",
      "    accuracy                           0.93      1883\n",
      "   macro avg       0.94      0.70      0.76      1883\n",
      "weighted avg       0.93      0.93      0.91      1883\n",
      "\n"
     ]
    }
   ],
   "source": [
    "\n",
    "# Train model\n",
    "clf = LogisticRegression()\n",
    "clf.fit(X_train_tfidf, y_train)\n",
    "\n",
    "# Evaluate\n",
    "y_pred = clf.predict(X_test_tfidf)\n",
    "print(classification_report(y_test, y_pred))"
   ]
  },
  {
   "cell_type": "code",
   "execution_count": 35,
   "id": "3e1c4e80-1372-4da9-a60f-b105fd65f2ea",
   "metadata": {},
   "outputs": [
    {
     "name": "stdout",
     "output_type": "stream",
     "text": [
      "              precision    recall  f1-score   support\n",
      "\n",
      "           0       0.97      0.93      0.95      1667\n",
      "           1       0.59      0.79      0.67       216\n",
      "\n",
      "    accuracy                           0.91      1883\n",
      "   macro avg       0.78      0.86      0.81      1883\n",
      "weighted avg       0.93      0.91      0.92      1883\n",
      "\n"
     ]
    }
   ],
   "source": [
    "clf = LogisticRegression(class_weight=\"balanced\", max_iter=200)\n",
    "clf.fit(X_train_tfidf, y_train)\n",
    "# Evaluate\n",
    "y_pred = clf.predict(X_test_tfidf)\n",
    "print(classification_report(y_test, y_pred))"
   ]
  },
  {
   "cell_type": "code",
   "execution_count": 37,
   "id": "b17774b3-00ff-47f2-9948-4f5b27122faf",
   "metadata": {},
   "outputs": [
    {
     "name": "stdout",
     "output_type": "stream",
     "text": [
      "              precision    recall  f1-score   support\n",
      "\n",
      "           0       0.97      0.94      0.96      1667\n",
      "           1       0.64      0.77      0.70       216\n",
      "\n",
      "    accuracy                           0.92      1883\n",
      "   macro avg       0.80      0.86      0.83      1883\n",
      "weighted avg       0.93      0.92      0.93      1883\n",
      "\n"
     ]
    }
   ],
   "source": [
    "from imblearn.over_sampling import SMOTE\n",
    "\n",
    "smote = SMOTE(random_state=42)\n",
    "X_resampled, y_resampled = smote.fit_resample(X_train_tfidf, y_train)\n",
    "\n",
    "clf = LogisticRegression(max_iter=200)\n",
    "clf.fit(X_resampled, y_resampled)\n",
    "# Evaluate\n",
    "y_pred = clf.predict(X_test_tfidf)\n",
    "print(classification_report(y_test, y_pred))"
   ]
  },
  {
   "cell_type": "code",
   "execution_count": 38,
   "id": "589fa99d-dc1c-4ae0-814d-67f99ceed29b",
   "metadata": {},
   "outputs": [
    {
     "name": "stdout",
     "output_type": "stream",
     "text": [
      "              precision    recall  f1-score   support\n",
      "\n",
      "           0       0.98      0.87      0.92      1667\n",
      "           1       0.46      0.86      0.60       216\n",
      "\n",
      "    accuracy                           0.87      1883\n",
      "   macro avg       0.72      0.86      0.76      1883\n",
      "weighted avg       0.92      0.87      0.89      1883\n",
      "\n"
     ]
    }
   ],
   "source": [
    "y_probs = clf.predict_proba(X_test_tfidf)[:,1]\n",
    "y_pred_adjusted = (y_probs >= 0.3).astype(int)  # threshold = 0.3\n",
    "print(classification_report(y_test, y_pred_adjusted))"
   ]
  },
  {
   "cell_type": "code",
   "execution_count": 39,
   "id": "fde6ab34-9aa6-4d05-ae69-657c64eb2f6e",
   "metadata": {},
   "outputs": [],
   "source": [
    "#using n grams"
   ]
  },
  {
   "cell_type": "code",
   "execution_count": 40,
   "id": "5691ab2d-36ae-4a6b-a447-c02cbe6ac593",
   "metadata": {},
   "outputs": [],
   "source": [
    "vectorizer = TfidfVectorizer(ngram_range=(1,3), max_features=50000)"
   ]
  },
  {
   "cell_type": "code",
   "execution_count": 41,
   "id": "2013766c-806e-4055-b331-2f9533a13ce1",
   "metadata": {},
   "outputs": [],
   "source": [
    "X_train_tfidf = vectorizer.fit_transform(X_train)\n",
    "X_test_tfidf = vectorizer.transform(X_test)"
   ]
  },
  {
   "cell_type": "code",
   "execution_count": 42,
   "id": "61371eec-33d1-41e1-bc5e-ebb92ad4faaf",
   "metadata": {},
   "outputs": [
    {
     "name": "stdout",
     "output_type": "stream",
     "text": [
      "              precision    recall  f1-score   support\n",
      "\n",
      "           0       0.92      1.00      0.96      1667\n",
      "           1       0.93      0.35      0.51       216\n",
      "\n",
      "    accuracy                           0.92      1883\n",
      "   macro avg       0.92      0.67      0.73      1883\n",
      "weighted avg       0.92      0.92      0.91      1883\n",
      "\n"
     ]
    }
   ],
   "source": [
    "#logistic regression + ngrams\n",
    "# Train model\n",
    "clf = LogisticRegression()\n",
    "clf.fit(X_train_tfidf, y_train)\n",
    "\n",
    "# Evaluate\n",
    "y_pred = clf.predict(X_test_tfidf)\n",
    "print(classification_report(y_test, y_pred))"
   ]
  },
  {
   "cell_type": "code",
   "execution_count": 44,
   "id": "51d35c59-df31-4ca2-9e40-8cc985273ee9",
   "metadata": {},
   "outputs": [],
   "source": [
    "#balanced logistic regression + ngrams\""
   ]
  },
  {
   "cell_type": "code",
   "execution_count": null,
   "id": "c66d806f-16e5-4064-b8bf-ce4c392d3179",
   "metadata": {},
   "outputs": [],
   "source": []
  }
 ],
 "metadata": {
  "kernelspec": {
   "display_name": "Python 3 (ipykernel)",
   "language": "python",
   "name": "python3"
  },
  "language_info": {
   "codemirror_mode": {
    "name": "ipython",
    "version": 3
   },
   "file_extension": ".py",
   "mimetype": "text/x-python",
   "name": "python",
   "nbconvert_exporter": "python",
   "pygments_lexer": "ipython3",
   "version": "3.13.6"
  }
 },
 "nbformat": 4,
 "nbformat_minor": 5
}
