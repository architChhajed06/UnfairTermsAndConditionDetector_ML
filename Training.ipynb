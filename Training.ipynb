{
 "cells": [
  {
   "cell_type": "code",
   "execution_count": 1,
   "id": "17081a4f-e60b-4ac1-a16b-fe7487554363",
   "metadata": {},
   "outputs": [],
   "source": [
    "from sklearn.model_selection import train_test_split\n",
    "from sklearn.feature_extraction.text import TfidfVectorizer\n",
    "from sklearn.linear_model import LogisticRegression\n",
    "from sklearn.metrics import (\n",
    "    accuracy_score, precision_score, recall_score,\n",
    "    classification_report, confusion_matrix, precision_recall_curve, auc\n",
    ")\n",
    "import pandas as pd"
   ]
  },
  {
   "cell_type": "code",
   "execution_count": 2,
   "id": "8c275a1d-e639-4f07-afaa-637313b000fc",
   "metadata": {},
   "outputs": [],
   "source": [
    "data = pd.read_csv('Untitled.ipynb.csv');"
   ]
  },
  {
   "cell_type": "code",
   "execution_count": 3,
   "id": "56d4309f-ff8b-41a3-8703-eb94540a9507",
   "metadata": {},
   "outputs": [],
   "source": [
    "sentences = data['text']"
   ]
  },
  {
   "cell_type": "code",
   "execution_count": 4,
   "id": "38806f93-1bd5-438f-996e-367797453bd3",
   "metadata": {},
   "outputs": [
    {
     "data": {
      "text/plain": [
       "text     9414\n",
       "label    9414\n",
       "dtype: int64"
      ]
     },
     "execution_count": 4,
     "metadata": {},
     "output_type": "execute_result"
    }
   ],
   "source": [
    "data.count()"
   ]
  },
  {
   "cell_type": "code",
   "execution_count": 5,
   "id": "157faf59-e572-4b2b-ab40-3a4b17855423",
   "metadata": {},
   "outputs": [],
   "source": [
    "labels = data['label']"
   ]
  },
  {
   "cell_type": "code",
   "execution_count": 6,
   "id": "20210cea-6c3f-417d-922f-12f465eba942",
   "metadata": {},
   "outputs": [
    {
     "ename": "NameError",
     "evalue": "name 'label' is not defined",
     "output_type": "error",
     "traceback": [
      "\u001b[31m---------------------------------------------------------------------------\u001b[39m",
      "\u001b[31mNameError\u001b[39m                                 Traceback (most recent call last)",
      "\u001b[36mCell\u001b[39m\u001b[36m \u001b[39m\u001b[32mIn[6]\u001b[39m\u001b[32m, line 1\u001b[39m\n\u001b[32m----> \u001b[39m\u001b[32m1\u001b[39m \u001b[43mlabel\u001b[49m[\u001b[32m0\u001b[39m]\n",
      "\u001b[31mNameError\u001b[39m: name 'label' is not defined"
     ]
    }
   ],
   "source": [
    "label[0]"
   ]
  },
  {
   "cell_type": "code",
   "execution_count": 7,
   "id": "91db158c-517c-42be-9115-dbf545e5c9ee",
   "metadata": {},
   "outputs": [],
   "source": [
    "#to store the results\n",
    "results = []"
   ]
  },
  {
   "cell_type": "code",
   "execution_count": 8,
   "id": "60cfd6b0-f187-4ed6-bc50-3fdbd7b96cfd",
   "metadata": {},
   "outputs": [],
   "source": [
    "from sklearn.metrics import classification_report, confusion_matrix, precision_recall_curve, auc\n",
    "import os\n",
    "\n",
    "# ---------- Utility: evaluation printer + file writer ----------\n",
    "def evaluate_and_print(name, model, X_val, y_val, output_file=\"model_results_voting_ensemble.txt\"):\n",
    "    \"\"\"\n",
    "    Print classification report + PR AUC and confusion matrix.\n",
    "    Store results in an external file (append mode).\n",
    "    \"\"\"\n",
    "    y_pred = model.predict(X_val)\n",
    "    accuracy = accuracy_score(y_test, y_pred)\n",
    "    precision = precision_score(y_test, y_pred)\n",
    "    recall = recall_score(y_test, y_pred)\n",
    "\n",
    "    print(f\"{name} Results:\")\n",
    "    print(\"Accuracy:\", accuracy)\n",
    "    print(\"Precision:\", precision)\n",
    "    print(\"Recall:\", recall)\n",
    "    print(\"-\" * 30)\n",
    "\n",
    "    # Append results to global list\n",
    "    results.append({\n",
    "        \"model\": name,\n",
    "        \"accuracy\": accuracy,\n",
    "        \"precision\": precision,\n",
    "        \"recall\": recall\n",
    "    })\n",
    "    # Open file in append mode\n",
    "    with open(output_file, \"a\") as f:\n",
    "        f.write(f\"\\n=== {name} ===\\n\")\n",
    "        report = classification_report(y_val, y_pred, digits=4)\n",
    "        f.write(report + \"\\n\")\n",
    "\n",
    "        # Confusion matrix\n",
    "        cm = confusion_matrix(y_val, y_pred)\n",
    "        f.write(\"Confusion matrix:\\n\" + str(cm) + \"\\n\")\n",
    "\n",
    "        # PR AUC\n",
    "        try:\n",
    "            if hasattr(model, \"predict_proba\"):\n",
    "                y_scores = model.predict_proba(X_val)[:, 1]\n",
    "            else:\n",
    "                y_scores = model.decision_function(X_val)\n",
    "            precision, recall, _ = precision_recall_curve(y_val, y_scores)\n",
    "            pr_auc = auc(recall, precision)\n",
    "            f.write(f\"Precision-Recall AUC: {pr_auc:.4f}\\n\")\n",
    "        except Exception as e:\n",
    "            f.write(f\"Could not compute PR-AUC: {e}\\n\")\n",
    "\n",
    "    # Still print to console for convenience\n",
    "    print(f\"\\n=== {name} ===\")\n",
    "    print(report)\n",
    "    print(\"Confusion matrix:\\n\", cm)\n",
    "    try:\n",
    "        print(f\"Precision-Recall AUC: {pr_auc:.4f}\")\n",
    "    except:\n",
    "        print(\"Could not compute PR-AUC\")\n"
   ]
  },
  {
   "cell_type": "code",
   "execution_count": null,
   "id": "d7be5733-53f4-4f47-8c2d-8f40bfef17d8",
   "metadata": {},
   "outputs": [],
   "source": []
  },
  {
   "cell_type": "code",
   "execution_count": 9,
   "id": "f96a53af-d82d-4d5d-b47f-3be9d3471284",
   "metadata": {},
   "outputs": [],
   "source": [
    "# Split\n",
    "X_train, X_test, y_train, y_test = train_test_split(sentences, labels, test_size=0.2)\n",
    "\n",
    "# Vectorize\n",
    "vectorizer = TfidfVectorizer()\n",
    "X_train_tfidf = vectorizer.fit_transform(X_train)\n",
    "X_test_tfidf = vectorizer.transform(X_test)"
   ]
  },
  {
   "cell_type": "code",
   "execution_count": 10,
   "id": "c5dc6dbd-10cf-48d3-a240-ba7169ebb939",
   "metadata": {},
   "outputs": [
    {
     "name": "stdout",
     "output_type": "stream",
     "text": [
      "Logistic_Regression Results:\n",
      "Accuracy: 0.935740839086564\n",
      "Precision: 0.9425287356321839\n",
      "Recall: 0.41414141414141414\n",
      "------------------------------\n",
      "\n",
      "=== Logistic_Regression ===\n",
      "              precision    recall  f1-score   support\n",
      "\n",
      "           0     0.9354    0.9970    0.9652      1685\n",
      "           1     0.9425    0.4141    0.5754       198\n",
      "\n",
      "    accuracy                         0.9357      1883\n",
      "   macro avg     0.9390    0.7056    0.7703      1883\n",
      "weighted avg     0.9362    0.9357    0.9243      1883\n",
      "\n",
      "Confusion matrix:\n",
      " [[1680    5]\n",
      " [ 116   82]]\n",
      "Precision-Recall AUC: 0.7537\n"
     ]
    }
   ],
   "source": [
    "\n",
    "# Train model\n",
    "clf = LogisticRegression()\n",
    "clf.fit(X_train_tfidf, y_train)\n",
    "\n",
    "# Evaluate\n",
    "# y_pred = clf.predict(X_test_tfidf)\n",
    "# print(classification_report(y_test, y_pred))\n",
    "evaluate_and_print(\"Logistic_Regression\", clf, X_test_tfidf, y_test)"
   ]
  },
  {
   "cell_type": "code",
   "execution_count": 12,
   "id": "3e1c4e80-1372-4da9-a60f-b105fd65f2ea",
   "metadata": {},
   "outputs": [
    {
     "name": "stdout",
     "output_type": "stream",
     "text": [
      "              precision    recall  f1-score   support\n",
      "\n",
      "           0       0.98      0.92      0.95      1685\n",
      "           1       0.54      0.81      0.65       198\n",
      "\n",
      "    accuracy                           0.91      1883\n",
      "   macro avg       0.76      0.87      0.80      1883\n",
      "weighted avg       0.93      0.91      0.92      1883\n",
      "\n",
      "Balanced_Logistic_Regression Results:\n",
      "Accuracy: 0.9081253319171535\n",
      "Precision: 0.5420875420875421\n",
      "Recall: 0.8131313131313131\n",
      "------------------------------\n",
      "\n",
      "=== Balanced_Logistic_Regression ===\n",
      "              precision    recall  f1-score   support\n",
      "\n",
      "           0     0.9767    0.9193    0.9471      1685\n",
      "           1     0.5421    0.8131    0.6505       198\n",
      "\n",
      "    accuracy                         0.9081      1883\n",
      "   macro avg     0.7594    0.8662    0.7988      1883\n",
      "weighted avg     0.9310    0.9081    0.9159      1883\n",
      "\n",
      "Confusion matrix:\n",
      " [[1549  136]\n",
      " [  37  161]]\n",
      "Precision-Recall AUC: 0.7674\n"
     ]
    }
   ],
   "source": [
    "clf = LogisticRegression(class_weight=\"balanced\", max_iter=200)\n",
    "clf.fit(X_train_tfidf, y_train)\n",
    "# Evaluate\n",
    "y_pred = clf.predict(X_test_tfidf)\n",
    "print(classification_report(y_test, y_pred))\n",
    "evaluate_and_print(\"Balanced_Logistic_Regression\", clf, X_test_tfidf, y_test)"
   ]
  },
  {
   "cell_type": "code",
   "execution_count": 37,
   "id": "b17774b3-00ff-47f2-9948-4f5b27122faf",
   "metadata": {},
   "outputs": [
    {
     "name": "stdout",
     "output_type": "stream",
     "text": [
      "              precision    recall  f1-score   support\n",
      "\n",
      "           0       0.97      0.94      0.96      1667\n",
      "           1       0.64      0.77      0.70       216\n",
      "\n",
      "    accuracy                           0.92      1883\n",
      "   macro avg       0.80      0.86      0.83      1883\n",
      "weighted avg       0.93      0.92      0.93      1883\n",
      "\n"
     ]
    }
   ],
   "source": [
    "from imblearn.over_sampling import SMOTE\n",
    "\n",
    "smote = SMOTE(random_state=42)\n",
    "X_resampled, y_resampled = smote.fit_resample(X_train_tfidf, y_train)\n",
    "\n",
    "clf = LogisticRegression(max_iter=200)\n",
    "clf.fit(X_resampled, y_resampled)\n",
    "# Evaluate\n",
    "y_pred = clf.predict(X_test_tfidf)\n",
    "print(classification_report(y_test, y_pred))"
   ]
  },
  {
   "cell_type": "code",
   "execution_count": 38,
   "id": "589fa99d-dc1c-4ae0-814d-67f99ceed29b",
   "metadata": {},
   "outputs": [
    {
     "name": "stdout",
     "output_type": "stream",
     "text": [
      "              precision    recall  f1-score   support\n",
      "\n",
      "           0       0.98      0.87      0.92      1667\n",
      "           1       0.46      0.86      0.60       216\n",
      "\n",
      "    accuracy                           0.87      1883\n",
      "   macro avg       0.72      0.86      0.76      1883\n",
      "weighted avg       0.92      0.87      0.89      1883\n",
      "\n"
     ]
    }
   ],
   "source": [
    "y_probs = clf.predict_proba(X_test_tfidf)[:,1]\n",
    "y_pred_adjusted = (y_probs >= 0.3).astype(int)  # threshold = 0.3\n",
    "print(classification_report(y_test, y_pred_adjusted))"
   ]
  },
  {
   "cell_type": "code",
   "execution_count": 39,
   "id": "fde6ab34-9aa6-4d05-ae69-657c64eb2f6e",
   "metadata": {},
   "outputs": [],
   "source": [
    "#using n grams"
   ]
  },
  {
   "cell_type": "code",
   "execution_count": 40,
   "id": "5691ab2d-36ae-4a6b-a447-c02cbe6ac593",
   "metadata": {},
   "outputs": [],
   "source": [
    "vectorizer = TfidfVectorizer(ngram_range=(1,3), max_features=50000)"
   ]
  },
  {
   "cell_type": "code",
   "execution_count": 41,
   "id": "2013766c-806e-4055-b331-2f9533a13ce1",
   "metadata": {},
   "outputs": [],
   "source": [
    "X_train_tfidf = vectorizer.fit_transform(X_train)\n",
    "X_test_tfidf = vectorizer.transform(X_test)"
   ]
  },
  {
   "cell_type": "code",
   "execution_count": 42,
   "id": "61371eec-33d1-41e1-bc5e-ebb92ad4faaf",
   "metadata": {},
   "outputs": [
    {
     "name": "stdout",
     "output_type": "stream",
     "text": [
      "              precision    recall  f1-score   support\n",
      "\n",
      "           0       0.92      1.00      0.96      1667\n",
      "           1       0.93      0.35      0.51       216\n",
      "\n",
      "    accuracy                           0.92      1883\n",
      "   macro avg       0.92      0.67      0.73      1883\n",
      "weighted avg       0.92      0.92      0.91      1883\n",
      "\n"
     ]
    }
   ],
   "source": [
    "#logistic regression + ngrams\n",
    "# Train model\n",
    "clf = LogisticRegression()\n",
    "clf.fit(X_train_tfidf, y_train)\n",
    "\n",
    "# Evaluate\n",
    "y_pred = clf.predict(X_test_tfidf)\n",
    "print(classification_report(y_test, y_pred))"
   ]
  },
  {
   "cell_type": "code",
   "execution_count": 113,
   "id": "51d35c59-df31-4ca2-9e40-8cc985273ee9",
   "metadata": {},
   "outputs": [
    {
     "name": "stdout",
     "output_type": "stream",
     "text": [
      "                 model  accuracy  precision    recall\n",
      "0  Logistic_Regression   0.93043   0.916667  0.417062\n"
     ]
    }
   ],
   "source": [
    "#storing the results back into the file\n",
    "# storing the results back into the file (append mode)\n",
    "df_results = pd.DataFrame(results)\n",
    "\n",
    "# Rename columns to match your CSV headers\n",
    "df_results.rename(columns={\n",
    "    \"model\": \"Model\",\n",
    "    \"accuracy\": \"Accuracy\",\n",
    "    \"precision\": \"Precision\",\n",
    "    \"recall\": \"Recall\"\n",
    "}, inplace=True)\n",
    "\n",
    "\n",
    "file_path = \"model_results_voting_ensemble_table.csv\"\n",
    "\n",
    "if not os.path.isfile(file_path):\n",
    "    # File does not exist -> write with header\n",
    "    df_results.to_csv(file_path, index=False, mode=\"w\")\n",
    "else:\n",
    "    # File exists -> append without header\n",
    "    df_results.to_csv(file_path, index=False, mode=\"a\", header=False)\n",
    "\n",
    "print(df_results)\n"
   ]
  },
  {
   "cell_type": "code",
   "execution_count": 40,
   "id": "c66d806f-16e5-4064-b8bf-ce4c392d3179",
   "metadata": {},
   "outputs": [
    {
     "data": {
      "text/plain": [
       "[{'model': 'Logistic_Regression',\n",
       "  'accuracy': 0.9309612320764737,\n",
       "  'precision': 0.9156626506024096,\n",
       "  'recall': 0.38190954773869346},\n",
       " {'model': 'Balanced_Logistic_Regression',\n",
       "  'accuracy': 0.9134360063728093,\n",
       "  'precision': 0.5616438356164384,\n",
       "  'recall': 0.8241206030150754},\n",
       " {'model': 'SMOTE',\n",
       "  'accuracy': 0.9283058948486458,\n",
       "  'precision': 0.6311475409836066,\n",
       "  'recall': 0.7738693467336684}]"
      ]
     },
     "execution_count": 40,
     "metadata": {},
     "output_type": "execute_result"
    }
   ],
   "source": [
    "results"
   ]
  },
  {
   "cell_type": "code",
   "execution_count": null,
   "id": "0d65ae9c-8ee2-4447-aa2b-001adf6cac96",
   "metadata": {},
   "outputs": [],
   "source": []
  }
 ],
 "metadata": {
  "kernelspec": {
   "display_name": "Python 3 (ipykernel)",
   "language": "python",
   "name": "python3"
  },
  "language_info": {
   "codemirror_mode": {
    "name": "ipython",
    "version": 3
   },
   "file_extension": ".py",
   "mimetype": "text/x-python",
   "name": "python",
   "nbconvert_exporter": "python",
   "pygments_lexer": "ipython3",
   "version": "3.13.6"
  }
 },
 "nbformat": 4,
 "nbformat_minor": 5
}
