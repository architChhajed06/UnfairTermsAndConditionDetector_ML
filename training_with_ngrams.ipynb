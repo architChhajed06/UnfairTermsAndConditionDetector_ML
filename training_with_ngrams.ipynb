{
 "cells": [
  {
   "cell_type": "code",
   "execution_count": 10,
   "id": "17081a4f-e60b-4ac1-a16b-fe7487554363",
   "metadata": {},
   "outputs": [],
   "source": [
    "from sklearn.model_selection import train_test_split\n",
    "from sklearn.feature_extraction.text import TfidfVectorizer\n",
    "from sklearn.linear_model import LogisticRegression\n",
    "from sklearn.metrics import (\n",
    "    accuracy_score, precision_score, recall_score,\n",
    "    classification_report, confusion_matrix, precision_recall_curve, auc\n",
    ")\n",
    "import pandas as pd"
   ]
  },
  {
   "cell_type": "code",
   "execution_count": 11,
   "id": "8c275a1d-e639-4f07-afaa-637313b000fc",
   "metadata": {},
   "outputs": [],
   "source": [
    "data = pd.read_csv('Untitled.ipynb.csv');"
   ]
  },
  {
   "cell_type": "code",
   "execution_count": 12,
   "id": "56d4309f-ff8b-41a3-8703-eb94540a9507",
   "metadata": {},
   "outputs": [],
   "source": [
    "sentences = data['text']"
   ]
  },
  {
   "cell_type": "code",
   "execution_count": 13,
   "id": "38806f93-1bd5-438f-996e-367797453bd3",
   "metadata": {},
   "outputs": [
    {
     "data": {
      "text/plain": [
       "text     9414\n",
       "label    9414\n",
       "dtype: int64"
      ]
     },
     "execution_count": 13,
     "metadata": {},
     "output_type": "execute_result"
    }
   ],
   "source": [
    "data.count()"
   ]
  },
  {
   "cell_type": "code",
   "execution_count": 14,
   "id": "157faf59-e572-4b2b-ab40-3a4b17855423",
   "metadata": {},
   "outputs": [],
   "source": [
    "labels = data['label']"
   ]
  },
  {
   "cell_type": "code",
   "execution_count": 15,
   "id": "20210cea-6c3f-417d-922f-12f465eba942",
   "metadata": {},
   "outputs": [],
   "source": [
    "results = []"
   ]
  },
  {
   "cell_type": "code",
   "execution_count": 16,
   "id": "67860b89-9e7a-422f-92a4-8ed2213cf8c5",
   "metadata": {},
   "outputs": [],
   "source": [
    "from sklearn.metrics import classification_report, confusion_matrix, precision_recall_curve, auc\n",
    "import os\n",
    "\n",
    "# ---------- Utility: evaluation printer + file writer ----------\n",
    "def evaluate_and_print(name, model, X_val, y_val, output_file=\"model_results_voting_ensemble.txt\"):\n",
    "    \"\"\"\n",
    "    Print classification report + PR AUC and confusion matrix.\n",
    "    Store results in an external file (append mode).\n",
    "    \"\"\"\n",
    "    y_pred = model.predict(X_val)\n",
    "    accuracy = accuracy_score(y_test, y_pred)\n",
    "    precision = precision_score(y_test, y_pred)\n",
    "    recall = recall_score(y_test, y_pred)\n",
    "\n",
    "    print(f\"{name} Results:\")\n",
    "    print(\"Accuracy:\", accuracy)\n",
    "    print(\"Precision:\", precision)\n",
    "    print(\"Recall:\", recall)\n",
    "    print(\"-\" * 30)\n",
    "\n",
    "    # Append results to global list\n",
    "    results.append({\n",
    "        \"model\": name,\n",
    "        \"accuracy\": accuracy,\n",
    "        \"precision\": precision,\n",
    "        \"recall\": recall\n",
    "    })\n",
    "    # Open file in append mode\n",
    "    with open(output_file, \"a\") as f:\n",
    "        f.write(f\"\\n=== {name} ===\\n\")\n",
    "        report = classification_report(y_val, y_pred, digits=4)\n",
    "        f.write(report + \"\\n\")\n",
    "\n",
    "        # Confusion matrix\n",
    "        cm = confusion_matrix(y_val, y_pred)\n",
    "        f.write(\"Confusion matrix:\\n\" + str(cm) + \"\\n\")\n",
    "\n",
    "        # PR AUC\n",
    "        try:\n",
    "            if hasattr(model, \"predict_proba\"):\n",
    "                y_scores = model.predict_proba(X_val)[:, 1]\n",
    "            else:\n",
    "                y_scores = model.decision_function(X_val)\n",
    "            precision, recall, _ = precision_recall_curve(y_val, y_scores)\n",
    "            pr_auc = auc(recall, precision)\n",
    "            f.write(f\"Precision-Recall AUC: {pr_auc:.4f}\\n\")\n",
    "        except Exception as e:\n",
    "            f.write(f\"Could not compute PR-AUC: {e}\\n\")\n",
    "\n",
    "    # Still print to console for convenience\n",
    "    print(f\"\\n=== {name} ===\")\n",
    "    print(report)\n",
    "    print(\"Confusion matrix:\\n\", cm)\n",
    "    try:\n",
    "        print(f\"Precision-Recall AUC: {pr_auc:.4f}\")\n",
    "    except:\n",
    "        print(\"Could not compute PR-AUC\")\n"
   ]
  },
  {
   "cell_type": "code",
   "execution_count": 17,
   "id": "f96a53af-d82d-4d5d-b47f-3be9d3471284",
   "metadata": {},
   "outputs": [],
   "source": [
    "# Split\n",
    "X_train, X_test, y_train, y_test = train_test_split(sentences, labels, test_size=0.2)\n",
    "\n",
    "# Vectorize\n",
    "vectorizer = TfidfVectorizer(ngram_range=(1,3), max_features=50000)\n",
    "X_train_tfidf = vectorizer.fit_transform(X_train)\n",
    "X_test_tfidf = vectorizer.transform(X_test)"
   ]
  },
  {
   "cell_type": "code",
   "execution_count": 18,
   "id": "c5dc6dbd-10cf-48d3-a240-ba7169ebb939",
   "metadata": {},
   "outputs": [
    {
     "name": "stdout",
     "output_type": "stream",
     "text": [
      "              precision    recall  f1-score   support\n",
      "\n",
      "           0       0.92      1.00      0.96      1652\n",
      "           1       0.97      0.39      0.55       231\n",
      "\n",
      "    accuracy                           0.92      1883\n",
      "   macro avg       0.94      0.69      0.75      1883\n",
      "weighted avg       0.93      0.92      0.91      1883\n",
      "\n",
      "Logistic_Regression_With_N_grams Results:\n",
      "Accuracy: 0.9229952203929899\n",
      "Precision: 0.967391304347826\n",
      "Recall: 0.3852813852813853\n",
      "------------------------------\n",
      "\n",
      "=== Logistic_Regression_With_N_grams ===\n",
      "              precision    recall  f1-score   support\n",
      "\n",
      "           0     0.9207    0.9982    0.9579      1652\n",
      "           1     0.9674    0.3853    0.5511       231\n",
      "\n",
      "    accuracy                         0.9230      1883\n",
      "   macro avg     0.9441    0.6917    0.7545      1883\n",
      "weighted avg     0.9264    0.9230    0.9080      1883\n",
      "\n",
      "Confusion matrix:\n",
      " [[1649    3]\n",
      " [ 142   89]]\n",
      "Precision-Recall AUC: 0.8423\n"
     ]
    }
   ],
   "source": [
    "\n",
    "# Train model\n",
    "clf = LogisticRegression()\n",
    "clf.fit(X_train_tfidf, y_train)\n",
    "\n",
    "# Evaluate\n",
    "y_pred = clf.predict(X_test_tfidf)\n",
    "print(classification_report(y_test, y_pred))\n",
    "evaluate_and_print(\"Logistic_Regression_With_N_grams\", clf, X_test_tfidf, y_test)"
   ]
  },
  {
   "cell_type": "code",
   "execution_count": 19,
   "id": "3e1c4e80-1372-4da9-a60f-b105fd65f2ea",
   "metadata": {},
   "outputs": [
    {
     "name": "stdout",
     "output_type": "stream",
     "text": [
      "              precision    recall  f1-score   support\n",
      "\n",
      "           0       0.98      0.95      0.96      1652\n",
      "           1       0.70      0.85      0.76       231\n",
      "\n",
      "    accuracy                           0.94      1883\n",
      "   macro avg       0.84      0.90      0.86      1883\n",
      "weighted avg       0.94      0.94      0.94      1883\n",
      "\n",
      "Balanced_Logistic_Regression_With_N_grams Results:\n",
      "Accuracy: 0.935740839086564\n",
      "Precision: 0.6950354609929078\n",
      "Recall: 0.8484848484848485\n",
      "------------------------------\n",
      "\n",
      "=== Balanced_Logistic_Regression_With_N_grams ===\n",
      "              precision    recall  f1-score   support\n",
      "\n",
      "           0     0.9781    0.9479    0.9628      1652\n",
      "           1     0.6950    0.8485    0.7641       231\n",
      "\n",
      "    accuracy                         0.9357      1883\n",
      "   macro avg     0.8366    0.8982    0.8635      1883\n",
      "weighted avg     0.9434    0.9357    0.9384      1883\n",
      "\n",
      "Confusion matrix:\n",
      " [[1566   86]\n",
      " [  35  196]]\n",
      "Precision-Recall AUC: 0.8497\n"
     ]
    }
   ],
   "source": [
    "clf = LogisticRegression(class_weight=\"balanced\", max_iter=200)\n",
    "clf.fit(X_train_tfidf, y_train)\n",
    "# Evaluate\n",
    "y_pred = clf.predict(X_test_tfidf)\n",
    "print(classification_report(y_test, y_pred))\n",
    "evaluate_and_print(\"Balanced_Logistic_Regression_With_N_grams\", clf, X_test_tfidf, y_test)"
   ]
  },
  {
   "cell_type": "code",
   "execution_count": 20,
   "id": "b17774b3-00ff-47f2-9948-4f5b27122faf",
   "metadata": {},
   "outputs": [
    {
     "name": "stdout",
     "output_type": "stream",
     "text": [
      "              precision    recall  f1-score   support\n",
      "\n",
      "           0       0.97      0.96      0.97      1652\n",
      "           1       0.76      0.82      0.79       231\n",
      "\n",
      "    accuracy                           0.95      1883\n",
      "   macro avg       0.87      0.89      0.88      1883\n",
      "weighted avg       0.95      0.95      0.95      1883\n",
      "\n",
      "SMOTE_With_N_grams Results:\n",
      "Accuracy: 0.9453000531067446\n",
      "Precision: 0.756\n",
      "Recall: 0.8181818181818182\n",
      "------------------------------\n",
      "\n",
      "=== SMOTE_With_N_grams ===\n",
      "              precision    recall  f1-score   support\n",
      "\n",
      "           0     0.9743    0.9631    0.9686      1652\n",
      "           1     0.7560    0.8182    0.7859       231\n",
      "\n",
      "    accuracy                         0.9453      1883\n",
      "   macro avg     0.8651    0.8906    0.8773      1883\n",
      "weighted avg     0.9475    0.9453    0.9462      1883\n",
      "\n",
      "Confusion matrix:\n",
      " [[1591   61]\n",
      " [  42  189]]\n",
      "Precision-Recall AUC: 0.8517\n"
     ]
    }
   ],
   "source": [
    "from imblearn.over_sampling import SMOTE\n",
    "\n",
    "smote = SMOTE(random_state=42)\n",
    "X_resampled, y_resampled = smote.fit_resample(X_train_tfidf, y_train)\n",
    "\n",
    "clf = LogisticRegression(max_iter=200)\n",
    "clf.fit(X_resampled, y_resampled)\n",
    "# Evaluate\n",
    "y_pred = clf.predict(X_test_tfidf)\n",
    "print(classification_report(y_test, y_pred))\n",
    "evaluate_and_print(\"SMOTE_With_N_grams\", clf, X_test_tfidf, y_test)"
   ]
  },
  {
   "cell_type": "code",
   "execution_count": 21,
   "id": "589fa99d-dc1c-4ae0-814d-67f99ceed29b",
   "metadata": {},
   "outputs": [
    {
     "name": "stdout",
     "output_type": "stream",
     "text": [
      "              precision    recall  f1-score   support\n",
      "\n",
      "           0       0.99      0.89      0.93      1652\n",
      "           1       0.53      0.93      0.68       231\n",
      "\n",
      "    accuracy                           0.89      1883\n",
      "   macro avg       0.76      0.91      0.80      1883\n",
      "weighted avg       0.93      0.89      0.90      1883\n",
      "\n"
     ]
    }
   ],
   "source": [
    "y_probs = clf.predict_proba(X_test_tfidf)[:,1]\n",
    "y_pred_adjusted = (y_probs >= 0.3).astype(int)  # threshold = 0.3\n",
    "print(classification_report(y_test, y_pred_adjusted))"
   ]
  },
  {
   "cell_type": "code",
   "execution_count": 22,
   "id": "fde6ab34-9aa6-4d05-ae69-657c64eb2f6e",
   "metadata": {},
   "outputs": [
    {
     "name": "stdout",
     "output_type": "stream",
     "text": [
      "                                       Model  Accuracy  Precision    Recall\n",
      "0           Logistic_Regression_With_N_grams  0.922995   0.967391  0.385281\n",
      "1  Balanced_Logistic_Regression_With_N_grams  0.935741   0.695035  0.848485\n",
      "2                         SMOTE_With_N_grams  0.945300   0.756000  0.818182\n"
     ]
    }
   ],
   "source": [
    "#storing the results back into the file\n",
    "# storing the results back into the file (append mode)\n",
    "df_results = pd.DataFrame(results)\n",
    "\n",
    "# Rename columns to match your CSV headers\n",
    "df_results.rename(columns={\n",
    "    \"model\": \"Model\",\n",
    "    \"accuracy\": \"Accuracy\",\n",
    "    \"precision\": \"Precision\",\n",
    "    \"recall\": \"Recall\"\n",
    "}, inplace=True)\n",
    "\n",
    "\n",
    "file_path = \"model_results_voting_ensemble_table.csv\"\n",
    "\n",
    "if not os.path.isfile(file_path):\n",
    "    # File does not exist -> write with header\n",
    "    df_results.to_csv(file_path, index=False, mode=\"w\")\n",
    "else:\n",
    "    # File exists -> append without header\n",
    "    df_results.to_csv(file_path, index=False, mode=\"a\", header=False)\n",
    "\n",
    "print(df_results)\n"
   ]
  },
  {
   "cell_type": "code",
   "execution_count": null,
   "id": "5691ab2d-36ae-4a6b-a447-c02cbe6ac593",
   "metadata": {},
   "outputs": [],
   "source": []
  },
  {
   "cell_type": "code",
   "execution_count": 41,
   "id": "2013766c-806e-4055-b331-2f9533a13ce1",
   "metadata": {},
   "outputs": [],
   "source": []
  },
  {
   "cell_type": "code",
   "execution_count": 42,
   "id": "61371eec-33d1-41e1-bc5e-ebb92ad4faaf",
   "metadata": {},
   "outputs": [
    {
     "name": "stdout",
     "output_type": "stream",
     "text": [
      "              precision    recall  f1-score   support\n",
      "\n",
      "           0       0.92      1.00      0.96      1667\n",
      "           1       0.93      0.35      0.51       216\n",
      "\n",
      "    accuracy                           0.92      1883\n",
      "   macro avg       0.92      0.67      0.73      1883\n",
      "weighted avg       0.92      0.92      0.91      1883\n",
      "\n"
     ]
    }
   ],
   "source": []
  },
  {
   "cell_type": "code",
   "execution_count": 44,
   "id": "51d35c59-df31-4ca2-9e40-8cc985273ee9",
   "metadata": {},
   "outputs": [],
   "source": []
  },
  {
   "cell_type": "code",
   "execution_count": null,
   "id": "c66d806f-16e5-4064-b8bf-ce4c392d3179",
   "metadata": {},
   "outputs": [],
   "source": []
  }
 ],
 "metadata": {
  "kernelspec": {
   "display_name": "Python 3 (ipykernel)",
   "language": "python",
   "name": "python3"
  },
  "language_info": {
   "codemirror_mode": {
    "name": "ipython",
    "version": 3
   },
   "file_extension": ".py",
   "mimetype": "text/x-python",
   "name": "python",
   "nbconvert_exporter": "python",
   "pygments_lexer": "ipython3",
   "version": "3.13.6"
  }
 },
 "nbformat": 4,
 "nbformat_minor": 5
}
